{
 "cells": [
  {
   "cell_type": "code",
   "execution_count": null,
   "metadata": {
    "ExecuteTime": {
     "end_time": "2020-03-29T16:11:26.949818Z",
     "start_time": "2020-03-29T16:11:26.946274Z"
    }
   },
   "outputs": [],
   "source": [
    "from bs4 import BeautifulSoup\n",
    "import os\n",
    "from time import sleep, mktime, time\n",
    "import datetime\n",
    "from collections import OrderedDict \n",
    "import numpy as np\n",
    "import re\n",
    "import pandas as pd\n",
    "import matplotlib.pyplot as plt\n",
    "from IPython.display import HTML"
   ]
  },
  {
   "cell_type": "code",
   "execution_count": null,
   "metadata": {
    "ExecuteTime": {
     "end_time": "2020-03-29T16:11:26.958405Z",
     "start_time": "2020-03-29T16:11:26.952762Z"
    }
   },
   "outputs": [],
   "source": [
    "HTML('''<script>\n",
    "code_show=true; \n",
    "function code_toggle() {\n",
    " if (code_show){\n",
    " $('div.input').hide();\n",
    " } else {\n",
    " $('div.input').show();\n",
    " }\n",
    " code_show = !code_show\n",
    "} \n",
    "$( document ).ready(code_toggle);\n",
    "</script>\n",
    "The raw code for this notebook is by default hidden for easier reading.\n",
    "To toggle on/off the raw code, click <a href=\"javascript:code_toggle()\">here</a>.''') "
   ]
  },
  {
   "cell_type": "markdown",
   "metadata": {},
   "source": [
    "## Guide\n",
    "- An activity should last at least 5 minutes to be recorded\n",
    "- If the time to reach a place to perform an activity is below 15 minutes, I consider it as part of that activity.\n",
    "- If an activity is not performed alone, it must contain an element like mom, dad, family, girlfriend, friends, colleagues, flatmates... (write them in order of importance during that activity)\n",
    "\n",
    "#### Activities importance\n",
    "- 1 passive activities, in background, like listening to music (commute is an exception that must be followed by a means)\n",
    "- 1.5 eating activities\n",
    "- 2 activities that require action, like cooking, time given to people\n",
    "- 3 special activities that are more active than the previous type, activities that can be performed while listening to music and eating\n",
    "- 0 activity less important than passive activities, like being with someone or being on a train for many hours\n"
   ]
  },
  {
   "cell_type": "code",
   "execution_count": null,
   "metadata": {
    "ExecuteTime": {
     "end_time": "2020-03-29T16:11:28.069278Z",
     "start_time": "2020-03-29T16:11:26.960586Z"
    }
   },
   "outputs": [],
   "source": [
    "data_folder = '../data/'\n",
    "soups = []\n",
    "for suffix in ['', '2', '3', '4']:\n",
    "    with open(data_folder + '/messages' + suffix + '.html') as fp:\n",
    "        html_doc = fp.read()\n",
    "    soups.append(BeautifulSoup(html_doc, 'html.parser'))"
   ]
  },
  {
   "cell_type": "code",
   "execution_count": null,
   "metadata": {
    "ExecuteTime": {
     "end_time": "2020-03-29T16:11:28.172107Z",
     "start_time": "2020-03-29T16:11:28.070737Z"
    }
   },
   "outputs": [],
   "source": [
    "activities = {'bike': {'class': 2, 'category': 'transport'},\n",
    "'breakfast': {'class': 1.5, 'category': 'food'},\n",
    "'bureaucracy': {'class': 2, 'category': 'other'},\n",
    "'clean': {'class': 2, 'category': 'hygiene'},\n",
    "'colleagues': {'class': 0.5, 'category': 'people'},\n",
    "'commute': {'class': 1, 'category': 'transport'},\n",
    "'plane': {'class': 0, 'category': 'transport'},\n",
    "'bus': {'class': 0, 'category': 'transport'},\n",
    "'tram': {'class': 0, 'category': 'transport'},\n",
    "'cook': {'class': 2, 'category': 'food'},\n",
    "'dad': {'class': 0.5, 'category': 'people'},\n",
    "'dinner': {'class': 1.5, 'category': 'food'},\n",
    "'dress': {'class': 2, 'category': 'other'},\n",
    "'???': {'class': 2, 'category': 'other'}, # forgot what it was\n",
    "'football': {'class': 2, 'category': 'other'},\n",
    "'exercise': {'class': 2, 'category': 'hobbies'},\n",
    "'snowboard': {'class': 2, 'category': 'hobbies'},\n",
    "'facebook': {'class': 3, 'category': 'other'},\n",
    "'internet': {'class': 3, 'category': 'other'},\n",
    "'flatmates': {'class': 0.5, 'category': 'people'},\n",
    "'friends': {'class': 0, 'category': 'people'},\n",
    "'girlfriend': {'class': 0.5, 'category': 'people'},\n",
    "'grocery': {'class': 2, 'category': 'food'},\n",
    "'hygiene': {'class': 2, 'category': 'hygiene'},\n",
    "'lunch': {'class': 1.5, 'category': 'food'},\n",
    "'merenda': {'class': 1.5, 'category': 'food'},\n",
    "'mom': {'class': 0.5, 'category': 'people'},\n",
    "'museum': {'class': 3, 'category': 'hobbies'},\n",
    "'movie': {'class': 3, 'category': 'hobbies'},\n",
    "'documentary': {'class': 3, 'category': 'hobbies'},\n",
    "'modular': {'class': 3, 'category': 'hobbies'},\n",
    "'concert': {'class': 3, 'category': 'hobbies'},\n",
    "'cinema': {'class': 3, 'category': 'other'},\n",
    "'zoo': {'class': 3, 'category': 'other'},\n",
    "'plants': {'class': 3, 'category': 'hobbies'},\n",
    "'hike': {'class': 3, 'category': 'other'},\n",
    "'music_discover': {'class': 3, 'category': 'hobbies'},\n",
    "'music_listen': {'class': 0.9, 'category': 'hobbies'},\n",
    "'music_make': {'class': 2, 'category': 'hobbies'},\n",
    "'music_play': {'class': 2, 'category': 'hobbies'},\n",
    "'nap': {'class': 2, 'category': 'sleep'},\n",
    "'news': {'class': 1, 'category': 'internet'},\n",
    "'pack': {'class': 2, 'category': 'other'},\n",
    "'flat_search': {'class': 2, 'category': 'other'},\n",
    "'piano_play': {'class': 2, 'category': 'hobbies'},\n",
    "'piano_practice': {'class': 2, 'category': 'hobbies'},\n",
    "'music_theory': {'class': 2, 'category': 'hobbies'},\n",
    "'plan': {'class': 2, 'category': 'other'},\n",
    "'read': {'class': 3, 'category': 'hobbies'},\n",
    "'code': {'class': 3, 'category': 'hobbies'},\n",
    "'concert': {'class': 3, 'category': 'hobbies'},\n",
    "'relatives': {'class': 0.5, 'category': 'people'},\n",
    "'relax': {'class': 2, 'category': 'other'},\n",
    "'side_project': {'class': 3, 'category': 'hobbies'},\n",
    "'sleep': {'class': 2, 'category': 'sleep'},\n",
    "'strangers': {'class': 2, 'category': 'other'},\n",
    "'police': {'class': 2, 'category': 'other'},\n",
    "'stretch': {'class': 2, 'category': 'hobbies'},\n",
    "'text': {'class': 3, 'category': 'other'},\n",
    "'toilet': {'class': 1.5, 'category': 'toilet'},\n",
    "'train': {'class': 0, 'category': 'transport'},\n",
    "'metro': {'class': 0, 'category': 'transport'},\n",
    "'walk': {'class': 3, 'category': 'other'},\n",
    "'work': {'class': 3, 'category': 'work'},\n",
    "'invest': {'class': 3, 'category': 'hobbies'},\n",
    "'invest_house': {'class': 3, 'category': 'hobbies'},\n",
    "'write': {'class': 2, 'category': 'hobbies'},\n",
    "'bed': {'class': 2, 'category': 'other'},\n",
    "'car': {'class': 2, 'category': 'transport'},\n",
    "'boat': {'class': 0, 'category': 'transport'},\n",
    "'motorbike': {'class': 2, 'category': 'transport'},\n",
    "'cat': {'class': 3, 'category': 'other'},\n",
    "'doctor': {'class': 2, 'category': 'other'},\n",
    "'family': {'class': 0.5, 'category': 'people'},\n",
    "'shop': {'class': 2, 'category': 'other'},\n",
    "'piano_shop': {'class': 2, 'category': 'other'},\n",
    "'sister': {'class': 0.5, 'category': 'people'},\n",
    "'armonica': {'class': 2, 'category': 'hobbies'},\n",
    "'violin': {'class': 2, 'category': 'hobbies'}}\n"
   ]
  },
  {
   "cell_type": "code",
   "execution_count": null,
   "metadata": {
    "ExecuteTime": {
     "end_time": "2020-03-29T17:25:53.320689Z",
     "start_time": "2020-03-29T17:25:53.288090Z"
    }
   },
   "outputs": [],
   "source": [
    "# sorted_ma_t = sorted(multiactivity_time.items(), key=lambda kv: -kv[1])\n",
    "# sorted_ma_t = OrderedDict(sorted_ma_t)\n",
    "genesis_ts = 1555390800\n",
    "\n",
    "def dt2ts(d):\n",
    "#     print('---------', d, '----------')\n",
    "    d = str(d)\n",
    "    ts = 0\n",
    "    try:\n",
    "        ts = mktime(datetime.datetime.strptime(d, \"%Y%m%d%H%M\").timetuple())\n",
    "    except Exception as e:\n",
    "#         pass\n",
    "        print(e)\n",
    "    return int(ts)\n",
    "\n",
    "def get_main_activity(acts):\n",
    "    if isinstance(acts, str):\n",
    "        acts = acts.split('|')\n",
    "    main_act = ''\n",
    "    score = -1\n",
    "    for act in acts:\n",
    "        if activities[act]['class'] > score:\n",
    "            score = activities[act]['class']\n",
    "            main_act = act\n",
    "        elif activities[act]['class'] == score:\n",
    "            if not get_category(main_act) == 'people' and not get_category(act) == 'people':\n",
    "                print('**Warning**', main_act, act)\n",
    "            #else we keep the first people act\n",
    "    return main_act\n",
    "\n",
    "def get_category(act):\n",
    "    cat = activities[act]['category']\n",
    "    return cat\n",
    "\n",
    "def get_multiactivity_time(day_activities):\n",
    "    prev_start = genesis_ts\n",
    "    prev_acts = 'write'\n",
    "\n",
    "    acts_time = dict()\n",
    "    for day in day_activities:\n",
    "        for t_a in day_activities[day]:\n",
    "            acts = '|'.join(t_a[1]) # get multiactivity\n",
    "            start = t_a[0] # multiactivity start time\n",
    "            if acts not in acts_time:\n",
    "                acts_time[acts] = 0\n",
    "            delta = start - prev_start\n",
    "            acts_time[prev_acts] += start - prev_start # add the time delta\n",
    "            prev_start = start\n",
    "            prev_acts = acts\n",
    "    return acts_time\n",
    "\n",
    "def get_mainactivity_time(day_activities):\n",
    "    prev_start = genesis_ts\n",
    "    prev_acts = 'write'\n",
    "    prev_act = get_main_activity(prev_acts)\n",
    "    \n",
    "    act_time = dict()\n",
    "    for day in day_activities:\n",
    "        for t_a in day_activities[day]:\n",
    "            try:\n",
    "                acts = '|'.join(t_a[1]) # get multiactivity\n",
    "                main_act = get_main_activity(acts)\n",
    "                start = t_a[0] # multiactivity start time\n",
    "                if main_act not in act_time:\n",
    "                    act_time[main_act] = 0\n",
    "    #             print('types', type(start), type(prev_start))\n",
    "                delta = start - prev_start\n",
    "                act_time[prev_act] += start - prev_start # add the time delta\n",
    "                prev_start = start\n",
    "                prev_act = main_act\n",
    "            except Exception as e:\n",
    "                print(e)\n",
    "                print(t_a, day)\n",
    "    return act_time\n",
    "\n",
    "def get_category_time(day_activities):\n",
    "    prev_start = genesis_ts\n",
    "    prev_acts = 'write'\n",
    "    prev_act = get_main_activity(prev_acts)\n",
    "    prev_cat = get_category(prev_act)\n",
    "\n",
    "    cat_time = dict()\n",
    "    for day in day_activities:\n",
    "        for t_a in day_activities[day]:\n",
    "            acts = '|'.join(t_a[1]) # get multiactivity\n",
    "            main_act = get_main_activity(acts)\n",
    "            cat = get_category(main_act)\n",
    "            start = t_a[0] # multiactivity start time\n",
    "            if cat not in cat_time:\n",
    "                cat_time[cat] = 0\n",
    "            delta = start - prev_start\n",
    "            cat_time[prev_cat] += start - prev_start # add the time delta\n",
    "            prev_start = start\n",
    "            prev_cat = cat\n",
    "    return cat_time\n",
    "\n",
    "def get_people_time(day_activities):\n",
    "    prev_start = genesis_ts\n",
    "    prev_acts = 'write'\n",
    "    prev_people = get_people(prev_acts)\n",
    "\n",
    "    people_time = dict()\n",
    "    for day in day_activities:\n",
    "        for t_a in day_activities[day]:\n",
    "            acts = '|'.join(t_a[1]) # get multiactivity\n",
    "            people = get_people(acts)\n",
    "            start = t_a[0] # multiactivity start time\n",
    "            for prev_person in prev_people:\n",
    "                if prev_person not in people_time:\n",
    "                    people_time[prev_person] = 0\n",
    "                delta = start - prev_start\n",
    "                people_time[prev_person] += start - prev_start # add the time delta\n",
    "                prev_start = start\n",
    "                prev_people = people    \n",
    "    return people_time\n",
    "\n",
    "def get_hobby_time(day_activities):\n",
    "    prev_start = genesis_ts\n",
    "    prev_acts = 'write'\n",
    "    prev_hobby = get_hobby(prev_acts)\n",
    "\n",
    "    hobby_time = dict()\n",
    "    for day in day_activities:\n",
    "        for t_a in day_activities[day]:\n",
    "            acts = '|'.join(t_a[1]) # get multiactivity\n",
    "            hobby = get_hobby(acts)\n",
    "            start = t_a[0] # multiactivity start time\n",
    "            if hobby not in hobby_time:\n",
    "                hobby_time[hobby] = 0\n",
    "            delta = start - prev_start\n",
    "            hobby_time[prev_hobby] += start - prev_start # add the time delta\n",
    "            prev_start = start\n",
    "            prev_hobby = hobby\n",
    "    hobby_time.pop('', None)\n",
    "    return hobby_time\n",
    "\n",
    "def get_other_time(day_activities):\n",
    "    prev_start = genesis_ts\n",
    "    prev_acts = 'write'\n",
    "    prev_other = get_other(prev_acts)\n",
    "\n",
    "    other_time = dict()\n",
    "    for day in day_activities:\n",
    "        for t_a in day_activities[day]:\n",
    "            acts = '|'.join(t_a[1]) # get multiactivity\n",
    "            other = get_other(acts)\n",
    "            start = t_a[0] # multiactivity start time\n",
    "            if other not in other_time:\n",
    "                other_time[other] = 0\n",
    "            delta = start - prev_start\n",
    "            other_time[prev_other] += start - prev_start # add the time delta\n",
    "            prev_start = start\n",
    "            prev_other = other\n",
    "    other_time.pop('', None)\n",
    "    return other_time\n",
    "\n",
    "def get_food_time(day_activities):\n",
    "    prev_start = genesis_ts\n",
    "    prev_acts = 'write'\n",
    "    prev_food = get_food(prev_acts)\n",
    "\n",
    "    food_time = dict()\n",
    "    for day in day_activities:\n",
    "        for t_a in day_activities[day]:\n",
    "            acts = '|'.join(t_a[1]) # get multiactivity\n",
    "            food = get_food(acts)\n",
    "            start = t_a[0] # multiactivity start time\n",
    "            if food not in food_time:\n",
    "                food_time[food] = 0\n",
    "            delta = start - prev_start\n",
    "            food_time[prev_food] += start - prev_start # add the time delta\n",
    "            prev_start = start\n",
    "            prev_food = food\n",
    "    food_time.pop('', None)\n",
    "    return food_time\n",
    "\n",
    "\n",
    "def ts2date(ts):\n",
    "    return datetime.datetime.fromtimestamp(int(ts)).strftime('%Y-%m-%d %H:%M:%S')\n",
    "\n",
    "def contains_activity(acts, act):\n",
    "    if act in acts[1]:\n",
    "        return True\n",
    "    return False\n",
    "\n",
    "def get_day_activity_time(day_activities, act):\n",
    "    # adds up the time spent doing activity act on a day\n",
    "    # the activity must end before the end of the day to be considered in that day\n",
    "    # otherwise it is considered in the next day\n",
    "    # output is in seconds\n",
    "    \n",
    "    start_activity_ts = 0\n",
    "    day_activity = dict()\n",
    "    days = [int(day) for day in day_activities.keys()]\n",
    "    days.sort()\n",
    "    for day in days:\n",
    "        day = str(day)\n",
    "        if day not in day_activity:\n",
    "            day_activity[day] = 0\n",
    "        \n",
    "        in_previous_line = False # if we have the same act in two subsequent lines\n",
    "        for cnt, acts in enumerate(day_activities[day]):\n",
    "            if contains_activity(acts, act):\n",
    "                if not in_previous_line:\n",
    "                    start_activity_ts = acts[0]\n",
    "                    in_previous_line = True\n",
    "            elif start_activity_ts:\n",
    "                in_previous_line = False\n",
    "                delta = acts[0] - start_activity_ts\n",
    "                day_activity[day] += delta\n",
    "                start_activity_ts = 0\n",
    "    return day_activity\n",
    "\n",
    "def get_day_category_time(day_activities, cat):\n",
    "    # adds up the time spent doing category cat on a day\n",
    "    # the category must end before the end of the day to be considered in that day\n",
    "    # otherwise it is considered in the next day\n",
    "    \n",
    "    start_category_ts = 0\n",
    "    day_category = dict()\n",
    "    days = [int(day) for day in day_activities.keys()]\n",
    "    days.sort()\n",
    "    for day in days:\n",
    "        day = str(day)\n",
    "        if day not in day_category:\n",
    "            day_category[day] = 0\n",
    "\n",
    "        for acts in day_activities[day]:\n",
    "            # get main act\n",
    "            main_act = get_main_activity(acts[1])\n",
    "            # get cat of main act\n",
    "            category = get_category(main_act)\n",
    "            if cat == category:\n",
    "                start_category_ts = acts[0]\n",
    "            elif start_category_ts:\n",
    "                delta = acts[0] - start_category_ts\n",
    "                day_category[day] += delta\n",
    "                start_category_ts = 0\n",
    "    return day_category\n",
    "\n",
    "def get_people(acts):\n",
    "    people = []\n",
    "    for act in acts.split('|'):\n",
    "        cat = get_category(act)\n",
    "        if cat == 'people':\n",
    "            people.append(act)\n",
    "    if not people:\n",
    "        return ['alone']\n",
    "    return people\n",
    "\n",
    "def get_hobby(acts):\n",
    "    hobby = ''\n",
    "    for act in acts.split('|'):\n",
    "        cat = get_category(act)\n",
    "        if cat == 'hobbies':\n",
    "            hobby = act\n",
    "    return hobby\n",
    "\n",
    "def get_other(acts):\n",
    "    other = ''\n",
    "    for act in acts.split('|'):\n",
    "        cat = get_category(act)\n",
    "        if cat == 'other':\n",
    "            other = act\n",
    "    return other\n",
    "\n",
    "def get_food(acts):\n",
    "    food = ''\n",
    "    for act in acts.split('|'):\n",
    "        cat = get_category(act)\n",
    "        if cat == 'food':\n",
    "            food = act\n",
    "    return food\n"
   ]
  },
  {
   "cell_type": "code",
   "execution_count": null,
   "metadata": {
    "ExecuteTime": {
     "end_time": "2020-03-29T16:11:28.200185Z",
     "start_time": "2020-03-29T16:11:28.196992Z"
    }
   },
   "outputs": [],
   "source": [
    "def date2ts(dt):\n",
    "    return mktime(datetime.datetime.strptime(dt, \"%Y%m%d\").timetuple())"
   ]
  },
  {
   "cell_type": "code",
   "execution_count": null,
   "metadata": {
    "ExecuteTime": {
     "end_time": "2020-03-29T16:11:28.207399Z",
     "start_time": "2020-03-29T16:11:28.202295Z"
    }
   },
   "outputs": [],
   "source": [
    "# tlgrm_activities = set()\n",
    "# day_activities = dict()\n",
    "\n",
    "# for soup in soups:\n",
    "#     text = soup.find_all(\"div\", {\"class\":\"text\"})\n",
    "#     for tag in text:\n",
    "#         line = tag.get_text().strip()\n",
    "#         if line[0] == '+':\n",
    "#             day = line[2:]\n",
    "#             print('new day', day)\n",
    "#             day_activities[day] = []\n",
    "#         elif line[0] == '-':\n",
    "#             if line[1] != ' ':\n",
    "#                 print('Put space, stupid!', line)\n",
    "#             else:\n",
    "# #                 try:\n",
    "#                 time_acts_list = re.split('- |\\+ ', line)[1:] # exclude first empty element\n",
    "#                 for ta in time_acts_list: \n",
    "#                     # ta is 2204 relax friends\n",
    "#                     # or 20190708\n",
    "#                     try:\n",
    "#                         day = str(int(ta))\n",
    "#                         print('new day', day)\n",
    "#                         day_activities[day] = []\n",
    "#                     except Exception as e: # not an int\n",
    "# #                         print(e)\n",
    "#                         single_time_acts = ta.split(' ')\n",
    "#         #                     splt = line[2:].split(' ')\n",
    "#                         for act in single_time_acts[1:]: # select acts only, splt[0] is time\n",
    "                            \n",
    "#                             tlgrm_activities.add(act.lower())\n",
    "#                             print('day + single_time_acts[0]', day + single_time_acts[0])\n",
    "#                         ts = dt2ts(day + single_time_acts[0])\n",
    "#                         day_activities[day].append([ts, sorted([el.lower() for el in single_time_acts[1:]])])\n",
    "#         #                 except Exception as e:\n",
    "#         #                     print(e)"
   ]
  },
  {
   "cell_type": "code",
   "execution_count": null,
   "metadata": {
    "ExecuteTime": {
     "end_time": "2020-03-29T16:11:28.214728Z",
     "start_time": "2020-03-29T16:11:28.209284Z"
    }
   },
   "outputs": [],
   "source": [
    "def is_time(word):\n",
    "    if len(word) == 4:\n",
    "        for char in word:\n",
    "            if not char.isdigit():\n",
    "                return False\n",
    "        return True\n",
    "    return False\n",
    "def is_date(word):\n",
    "    try:\n",
    "        word = str(int(word))\n",
    "        if len(word) == 8:\n",
    "            return True\n",
    "        return False\n",
    "    except:\n",
    "        return False\n",
    "\n",
    "def is_act(word):\n",
    "    if is_date(word) or is_time(word):\n",
    "        return False\n",
    "    if word:\n",
    "        return True\n",
    "    return False"
   ]
  },
  {
   "cell_type": "code",
   "execution_count": null,
   "metadata": {
    "ExecuteTime": {
     "end_time": "2020-03-29T16:11:28.721317Z",
     "start_time": "2020-03-29T16:11:28.216292Z"
    }
   },
   "outputs": [],
   "source": [
    "tlgrm_activities = set()\n",
    "day_activities = dict()\n",
    "\n",
    "time_acts = []\n",
    "day = ''\n",
    "for soup in soups:\n",
    "    text = soup.find_all(\"div\", {\"class\":\"text\"})\n",
    "    for tag in text:\n",
    "        line = tag.get_text().strip()\n",
    "        if line[0] in ['-', '+']:\n",
    "            words = re.split('- |\\+ | ', line)[1:]\n",
    "\n",
    "            for word in words:\n",
    "                # we need the first day\n",
    "                if is_date(word):\n",
    "                    day = word\n",
    "    #                 print('day found', day)\n",
    "                    day_activities[day] = []\n",
    "                if day:\n",
    "                    if is_time(word):\n",
    "                        time = dt2ts(day + word)\n",
    "                        # store current time_acts                        \n",
    "                        time_acts = [time, []]\n",
    "                        day_activities[day].append(time_acts)\n",
    "                    elif is_act(word): # is act\n",
    "                        act = word.lower()\n",
    "    #                     print('act found', act)\n",
    "                        day_activities[day][-1][1].append(act)\n",
    "                # else go to next word and look for day"
   ]
  },
  {
   "cell_type": "code",
   "execution_count": null,
   "metadata": {
    "ExecuteTime": {
     "end_time": "2020-03-29T16:11:28.724528Z",
     "start_time": "2020-03-29T16:11:28.722615Z"
    }
   },
   "outputs": [],
   "source": [
    "# when an activity starts before midnight and ends after midnight, it belongs to the previous day"
   ]
  },
  {
   "cell_type": "code",
   "execution_count": null,
   "metadata": {
    "ExecuteTime": {
     "end_time": "2020-03-29T16:11:28.786828Z",
     "start_time": "2020-03-29T16:11:28.726001Z"
    }
   },
   "outputs": [],
   "source": [
    "# multiactivity_time = get_multiactivity_time(day_activities)\n",
    "mainactivity_time = get_mainactivity_time(day_activities)\n",
    "category_time = get_category_time(day_activities)\n",
    "people_time = get_people_time(day_activities)\n",
    "hobby_time = get_hobby_time(day_activities)\n",
    "other_time = get_other_time(day_activities)\n",
    "food_time = get_food_time(day_activities)"
   ]
  },
  {
   "cell_type": "code",
   "execution_count": null,
   "metadata": {
    "ExecuteTime": {
     "end_time": "2020-03-29T16:11:28.790329Z",
     "start_time": "2020-03-29T16:11:28.788328Z"
    }
   },
   "outputs": [],
   "source": [
    "# acts_list = []\n",
    "# for ma in multiactivity_time:\n",
    "#     mins = multiactivity_time[ma]/60\n",
    "#     hours = round(mins/60, 2)\n",
    "#     acts_list.append([ma, mins, hours])\n",
    "# acts_df = pd.DataFrame(acts_list, columns=['activities', 'minutes', 'hours'])\n",
    "# tot_minutes = sum(acts_df.minutes.values)\n",
    "# acts_df['perc'] = acts_df.apply(lambda x: 100*x[1]/tot_minutes, axis=1)\n",
    "# acts_df.sort_values('perc', ascending=False)\n",
    "# acts_df = acts_df.sort_values('perc', ascending=False)"
   ]
  },
  {
   "cell_type": "code",
   "execution_count": null,
   "metadata": {
    "ExecuteTime": {
     "end_time": "2020-03-29T16:11:28.799826Z",
     "start_time": "2020-03-29T16:11:28.791882Z"
    }
   },
   "outputs": [],
   "source": [
    "act_list = []\n",
    "for ma in mainactivity_time:\n",
    "    mins = mainactivity_time[ma]/60\n",
    "    hours = round(mins/60, 2)\n",
    "    act_list.append([ma, mins, hours])\n",
    "act_df = pd.DataFrame(act_list, columns=['activity', 'minutes', 'hours'])\n",
    "tot_minutes = sum(act_df.minutes.values)\n",
    "act_df['perc'] = act_df.apply(lambda x: 100*x[1]/tot_minutes, axis=1)\n",
    "act_df = act_df.sort_values('perc', ascending=False)"
   ]
  },
  {
   "cell_type": "code",
   "execution_count": null,
   "metadata": {
    "ExecuteTime": {
     "end_time": "2020-03-29T16:11:28.811231Z",
     "start_time": "2020-03-29T16:11:28.802032Z"
    }
   },
   "outputs": [],
   "source": [
    "cat_list = []\n",
    "for cat in category_time:\n",
    "    mins = category_time[cat]/60\n",
    "    hours = round(mins/60, 2)\n",
    "    cat_list.append([cat, mins, hours])\n",
    "cat_df = pd.DataFrame(cat_list, columns=['category', 'minutes', 'hours'])\n",
    "tot_minutes = sum(cat_df.minutes.values)\n",
    "cat_df['perc'] = cat_df.apply(lambda x: 100*x[1]/tot_minutes, axis=1)\n",
    "cat_df = cat_df.sort_values('perc', ascending=False)"
   ]
  },
  {
   "cell_type": "code",
   "execution_count": null,
   "metadata": {
    "ExecuteTime": {
     "end_time": "2020-03-29T16:11:28.823458Z",
     "start_time": "2020-03-29T16:11:28.813224Z"
    }
   },
   "outputs": [],
   "source": [
    "people_list = []\n",
    "for p in people_time:\n",
    "    mins = people_time[p]/60\n",
    "    hours = round(mins/60, 2)\n",
    "    people_list.append([p, mins, hours])\n",
    "people_df = pd.DataFrame(people_list, columns=['person', 'minutes', 'hours'])\n",
    "tot_minutes = sum(people_df.minutes.values)\n",
    "people_df['perc'] = people_df.apply(lambda x: 100*x[1]/tot_minutes, axis=1)\n",
    "people_df = people_df.sort_values('perc', ascending=False)"
   ]
  },
  {
   "cell_type": "code",
   "execution_count": null,
   "metadata": {
    "ExecuteTime": {
     "end_time": "2020-03-29T16:11:28.833703Z",
     "start_time": "2020-03-29T16:11:28.825531Z"
    }
   },
   "outputs": [],
   "source": [
    "hobby_list = []\n",
    "for p in hobby_time:\n",
    "    mins = hobby_time[p]/60\n",
    "    hours = round(mins/60, 2)\n",
    "    hobby_list.append([p, mins, hours])\n",
    "hobby_df = pd.DataFrame(hobby_list, columns=['hobby', 'minutes', 'hours'])\n",
    "tot_minutes = sum(hobby_df.minutes.values)\n",
    "hobby_df['perc'] = hobby_df.apply(lambda x: 100*x[1]/tot_minutes, axis=1)\n",
    "hobby_df = hobby_df.sort_values('perc', ascending=False)"
   ]
  },
  {
   "cell_type": "code",
   "execution_count": null,
   "metadata": {
    "ExecuteTime": {
     "end_time": "2020-03-29T16:11:28.844048Z",
     "start_time": "2020-03-29T16:11:28.835533Z"
    }
   },
   "outputs": [],
   "source": [
    "other_list = []\n",
    "for p in other_time:\n",
    "    mins = other_time[p]/60\n",
    "    hours = round(mins/60, 2)\n",
    "    other_list.append([p, mins, hours])\n",
    "other_df = pd.DataFrame(other_list, columns=['other', 'minutes', 'hours'])\n",
    "tot_minutes = sum(other_df.minutes.values)\n",
    "other_df['perc'] = other_df.apply(lambda x: 100*x[1]/tot_minutes, axis=1)\n",
    "other_df = other_df.sort_values('perc', ascending=False)"
   ]
  },
  {
   "cell_type": "code",
   "execution_count": null,
   "metadata": {
    "ExecuteTime": {
     "end_time": "2020-03-29T16:11:28.856089Z",
     "start_time": "2020-03-29T16:11:28.847477Z"
    }
   },
   "outputs": [],
   "source": [
    "food_list = []\n",
    "for p in food_time:\n",
    "    mins = food_time[p]/60\n",
    "    hours = round(mins/60, 2)\n",
    "    food_list.append([p, mins, hours])\n",
    "food_df = pd.DataFrame(food_list, columns=['food', 'minutes', 'hours'])\n",
    "tot_minutes = sum(food_df.minutes.values)\n",
    "food_df['perc'] = food_df.apply(lambda x: 100*x[1]/tot_minutes, axis=1)\n",
    "food_df = food_df.sort_values('perc', ascending=False)"
   ]
  },
  {
   "cell_type": "code",
   "execution_count": null,
   "metadata": {
    "ExecuteTime": {
     "end_time": "2020-03-29T16:11:28.861824Z",
     "start_time": "2020-03-29T16:11:28.859048Z"
    }
   },
   "outputs": [],
   "source": [
    "figS = 8"
   ]
  },
  {
   "cell_type": "code",
   "execution_count": null,
   "metadata": {
    "ExecuteTime": {
     "end_time": "2020-03-29T16:11:29.356229Z",
     "start_time": "2020-03-29T16:11:28.864447Z"
    }
   },
   "outputs": [],
   "source": [
    "plt.figure(figsize=(figS,figS))\n",
    "ax = plt.gca()\n",
    "patches, texts, autotexts = ax.pie(cat_df.perc, labels=[c.upper() for c in cat_df.category], autopct='%1.1f%%', radius=1.3, pctdistance=.9, labeldistance=1)\n",
    "plt.setp(patches, width=0.3, edgecolor='white')\n",
    "\n",
    "plt.title('How I spent my time since\\n'.upper() + ts2date(genesis_ts)[:10], y=.45, fontsize=20)\n",
    "plt.savefig('../images/categories.pdf', bbox_inches='tight')\n",
    "plt.savefig('../images/categories.png', bbox_inches='tight')\n",
    "plt.show()\n",
    "\n"
   ]
  },
  {
   "cell_type": "code",
   "execution_count": null,
   "metadata": {
    "ExecuteTime": {
     "end_time": "2020-03-29T16:11:31.252175Z",
     "start_time": "2020-03-29T16:11:29.358055Z"
    }
   },
   "outputs": [],
   "source": [
    "plt.figure(figsize=(figS,figS))\n",
    "ax = plt.gca()\n",
    "# ptchs, texts, autotexts = ax.pie(cat_df.perc, labels=cat_df.category, autopct='%1.1f%%', radius=1.0, pctdistance=.85, labeldistance=1)\n",
    "# plt.setp(ptchs, width=0.3, edgecolor='white')\n",
    "\n",
    "ptchs, texts, autotexts = ax.pie(food_df.perc, labels=['\\n'.join(c.upper().split('_')) for c in food_df.food], autopct='%1.1f%%', radius=1.0, pctdistance=.85, labeldistance=1)\n",
    "plt.setp(ptchs, width=0.3, edgecolor='white')\n",
    "\n",
    "ptchs, texts, autotexts = ax.pie(people_df.perc, labels=['\\n'.join(c.upper().split('_')) for c in people_df.person], autopct='%1.1f%%', radius=1.8, pctdistance=.91, labeldistance=1)\n",
    "[ _.set_fontsize(13) for _ in texts]\n",
    "plt.setp(ptchs, width=0.3, edgecolor='white')\n",
    "\n",
    "ptchs, texts, autotexts = ax.pie(hobby_df.perc, labels=['\\n'.join(c.upper().split('_')) for c in hobby_df.hobby], autopct='%1.1f%%', radius=2.6, pctdistance=.93, labeldistance=1)\n",
    "[ _.set_fontsize(18) for _ in texts]\n",
    "plt.setp(ptchs, width=0.3, edgecolor='white')\n",
    "\n",
    "ptchs, texts, autotexts = ax.pie(other_df.perc, labels=['\\n'.join(c.upper().split('_')) for c in other_df.other], autopct='%1.1f%%', radius=3.4, pctdistance=.95, labeldistance=1)\n",
    "[ _.set_fontsize(25) for _ in texts]\n",
    "plt.setp(ptchs, width=0.3, edgecolor='white')\n",
    "\n",
    "plt.title('From inner to\\nouter donut:\\n1 - food\\n2 - company\\n3 - hobbies\\n4 - other', y=.35, fontsize='17')\n",
    "plt.savefig('../images/donuts.pdf', bbox_inches = 'tight')\n",
    "plt.savefig('../images/donuts.png', bbox_inches = 'tight')\n",
    "\n",
    "# my_circle = plt.Circle( (0,0), 0.05, color='white')\n",
    "# p = plt.gcf()\n",
    "# p.gca().add_artist(my_circle)\n",
    "plt.show()"
   ]
  },
  {
   "cell_type": "code",
   "execution_count": null,
   "metadata": {
    "ExecuteTime": {
     "end_time": "2020-03-29T16:11:31.255223Z",
     "start_time": "2020-03-29T16:11:31.253482Z"
    }
   },
   "outputs": [],
   "source": [
    "# plt.figure(figsize=(figS,figS))\n",
    "# ax = plt.gca()\n",
    "# patches, texts, autotexts = ax.pie(act_df.perc, labels=act_df.activity, autopct='%1.1f%%', radius=0.3)\n",
    "# plt.axis('equal')\n",
    "# my_circle=plt.Circle( (0,0), 0.1, color='white')\n",
    "# p=plt.gcf()\n",
    "# p.gca().add_artist(my_circle)\n",
    "# plt.show()"
   ]
  },
  {
   "cell_type": "code",
   "execution_count": null,
   "metadata": {
    "ExecuteTime": {
     "end_time": "2020-03-29T16:11:31.262590Z",
     "start_time": "2020-03-29T16:11:31.256419Z"
    }
   },
   "outputs": [],
   "source": [
    "# plt.figure(figsize=(figS,figS))\n",
    "# ax = plt.gca()\n",
    "# patches, texts, autotexts = ax.pie(acts_df.perc, labels=acts_df.activities, autopct='%1.1f%%', radius=0.3)\n",
    "# plt.axis('equal')\n",
    "# my_circle=plt.Circle( (0,0), 0.1, color='white')\n",
    "# p=plt.gcf()\n",
    "# p.gca().add_artist(my_circle)\n",
    "# plt.show()"
   ]
  },
  {
   "cell_type": "code",
   "execution_count": null,
   "metadata": {
    "ExecuteTime": {
     "end_time": "2020-03-29T16:11:31.266663Z",
     "start_time": "2020-03-29T16:11:31.263945Z"
    }
   },
   "outputs": [],
   "source": [
    "# plt.figure(figsize=(figS,figS))\n",
    "# ax = plt.gca()\n",
    "# patches, texts, autotexts = ax.pie(people_df.perc, labels=people_df.person, autopct='%1.1f%%', radius=0.3)\n",
    "# plt.axis('equal')\n",
    "# my_circle=plt.Circle( (0,0), 0.1, color='white')\n",
    "# p=plt.gcf()\n",
    "# p.gca().add_artist(my_circle)\n",
    "# plt.show()"
   ]
  },
  {
   "cell_type": "code",
   "execution_count": null,
   "metadata": {
    "ExecuteTime": {
     "end_time": "2020-03-29T16:11:31.270815Z",
     "start_time": "2020-03-29T16:11:31.268262Z"
    }
   },
   "outputs": [],
   "source": [
    "categories = dict()\n",
    "for a in activities:\n",
    "    cat = activities[a]['category']\n",
    "    if cat not in categories:\n",
    "        categories[cat] = []\n",
    "    categories[cat].append(a)"
   ]
  },
  {
   "cell_type": "code",
   "execution_count": null,
   "metadata": {
    "ExecuteTime": {
     "end_time": "2020-03-29T16:11:31.275540Z",
     "start_time": "2020-03-29T16:11:31.272245Z"
    }
   },
   "outputs": [],
   "source": [
    "other_time"
   ]
  },
  {
   "cell_type": "code",
   "execution_count": null,
   "metadata": {
    "ExecuteTime": {
     "end_time": "2020-03-29T16:11:31.280866Z",
     "start_time": "2020-03-29T16:11:31.277480Z"
    }
   },
   "outputs": [],
   "source": [
    "category_color = {\n",
    "    'sleep': '#B2B2B2',\n",
    "    'toilet': '#A52A2A',\n",
    "    'food': '#FF0000',\n",
    "    'transport': '#FFA500',\n",
    "    'work': '#EAEA00',\n",
    "    'other': '#0000FF',\n",
    "    'hygiene': '#00FFFF',\n",
    "    'people': '#FF7AE6',\n",
    "    'hobbies': '#00C600',\n",
    "    'internet': '#000000',\n",
    "}"
   ]
  },
  {
   "cell_type": "code",
   "execution_count": null,
   "metadata": {
    "ExecuteTime": {
     "end_time": "2020-03-29T16:11:31.286380Z",
     "start_time": "2020-03-29T16:11:31.283718Z"
    }
   },
   "outputs": [],
   "source": [
    "# for acts in acts_df.activities:\n",
    "#     print(acts, '--->',get_main_activity(acts))"
   ]
  },
  {
   "cell_type": "code",
   "execution_count": null,
   "metadata": {
    "ExecuteTime": {
     "end_time": "2020-03-29T16:11:31.290107Z",
     "start_time": "2020-03-29T16:11:31.288088Z"
    }
   },
   "outputs": [],
   "source": [
    "# for i in range(4):\n",
    "#     print(i)\n",
    "#     for act in activities:\n",
    "#         if i == activities[act]['class']:\n",
    "#             print(act)"
   ]
  },
  {
   "cell_type": "code",
   "execution_count": null,
   "metadata": {
    "ExecuteTime": {
     "end_time": "2020-03-29T16:11:31.294385Z",
     "start_time": "2020-03-29T16:11:31.291996Z"
    }
   },
   "outputs": [],
   "source": [
    "import matplotlib.patches as patches\n"
   ]
  },
  {
   "cell_type": "code",
   "execution_count": null,
   "metadata": {
    "ExecuteTime": {
     "end_time": "2020-03-29T16:11:31.298094Z",
     "start_time": "2020-03-29T16:11:31.296062Z"
    }
   },
   "outputs": [],
   "source": [
    "def get_category_color(cat):\n",
    "    return(category_color[cat])"
   ]
  },
  {
   "cell_type": "code",
   "execution_count": null,
   "metadata": {
    "ExecuteTime": {
     "end_time": "2020-03-29T16:11:31.301657Z",
     "start_time": "2020-03-29T16:11:31.299573Z"
    }
   },
   "outputs": [],
   "source": [
    "# for day in day_activities:\n",
    "#     color = 'k'\n",
    "#     for el in day_activities[day]:\n",
    "#         if 'hygiene' in el[1]:\n",
    "#             color = 'r'\n",
    "#             break\n",
    "#     print(day, color)\n"
   ]
  },
  {
   "cell_type": "code",
   "execution_count": null,
   "metadata": {
    "ExecuteTime": {
     "end_time": "2020-03-29T17:26:01.714097Z",
     "start_time": "2020-03-29T17:26:01.710915Z"
    }
   },
   "outputs": [],
   "source": [
    "small_day_activities = dict()\n",
    "# for k in list(day_activities.keys())[::-1][:2]:\n",
    "for k in ['20200206']:\n",
    "    small_day_activities[k] = day_activities[k]"
   ]
  },
  {
   "cell_type": "code",
   "execution_count": null,
   "metadata": {
    "ExecuteTime": {
     "end_time": "2020-03-29T17:42:05.936039Z",
     "start_time": "2020-03-29T17:42:05.932647Z"
    }
   },
   "outputs": [],
   "source": [
    "# weekly_work_time = 0\n",
    "# n_weeks = 12\n",
    "# day_activity_time = get_day_activity_time(day_activities, 'work')\n",
    "# for i, day in enumerate(list(day_activities.keys())[::-1][:7*n_weeks]):\n",
    "#     if not i%7:\n",
    "#         if int(i/7):\n",
    "#             print('.....', int(i/7), 'week:', round(weekly_work_time/3600, 2), '.....')\n",
    "#         weekly_work_time = 0\n",
    "#     wt = day_activity_time[day]\n",
    "#     weekly_work_time += wt\n",
    "#     print(day, 'daily hours:', wt/3600)    \n",
    "# print('.....', int(i/7), 'week:', round(weekly_work_time/3600, 2), '.....')\n",
    "# # 2 days below ..... are weekend"
   ]
  },
  {
   "cell_type": "code",
   "execution_count": null,
   "metadata": {
    "ExecuteTime": {
     "end_time": "2020-03-29T18:07:04.752620Z",
     "start_time": "2020-03-29T18:07:04.745256Z"
    }
   },
   "outputs": [],
   "source": [
    "weekly_work_time = 0\n",
    "# n_weeks = 1\n",
    "day_activity_time = get_day_activity_time(day_activities, 'work')\n",
    "weekly_hours = dict()\n",
    "# for i, day in enumerate(list(day_activities.keys())[::-1][:7*n_weeks]):\n",
    "for i, day in enumerate(list(day_activities.keys())[::-1]):\n",
    "    if not i%7:\n",
    "        if int(i/7):\n",
    "            weekly_hours[day] = round(weekly_work_time/3600, 2)\n",
    "#             print('.....', int(i/7), 'week:', round(weekly_work_time/3600, 2), '.....')\n",
    "        weekly_work_time = 0\n",
    "    wt = day_activity_time[day]\n",
    "    weekly_work_time += wt\n",
    "weekly_hours[day] = round(weekly_work_time/3600, 2)\n",
    "#     print(day, 'daily hours:', wt/3600)    \n",
    "# print('.....', int(i/7), 'week:', round(weekly_work_time/3600, 2), '.....')"
   ]
  },
  {
   "cell_type": "code",
   "execution_count": null,
   "metadata": {
    "ExecuteTime": {
     "end_time": "2020-03-29T20:53:17.632708Z",
     "start_time": "2020-03-29T20:53:17.623253Z"
    },
    "scrolled": true
   },
   "outputs": [],
   "source": [
    "[v for v in weekly_hours.values()]"
   ]
  },
  {
   "cell_type": "code",
   "execution_count": null,
   "metadata": {
    "ExecuteTime": {
     "end_time": "2020-03-29T18:17:49.604550Z",
     "start_time": "2020-03-29T18:17:49.373179Z"
    }
   },
   "outputs": [],
   "source": [
    "fs = 20\n",
    "plt.figure(figsize=(15,7))\n",
    "# plt.fill_between([i for i in range(len(weekly_hours))], \n",
    "#                  [v if i < 3 else 0 for i, v in enumerate(weekly_hours)], \n",
    "#                  color='r',\n",
    "#                  where=y > 0)\n",
    "plt.axvline(x=0, label='quarantene', color='r', linewidth=4)\n",
    "plt.axvline(x=1, color='r', linewidth=4)\n",
    "plt.axvline(x=2, color='r', linewidth=4)\n",
    "plt.plot([v for v in weekly_hours.values()], linewidth=4)\n",
    "plt.title('weekly hours of work', fontsize=fs)\n",
    "plt.xlabel('weeks', fontsize=fs)\n",
    "plt.legend(fontsize=fs)\n",
    "plt.yticks(fontsize=fs)\n",
    "plt.xticks(fontsize=fs)\n",
    "plt.grid()\n",
    "plt.show()\n"
   ]
  },
  {
   "cell_type": "code",
   "execution_count": null,
   "metadata": {
    "ExecuteTime": {
     "end_time": "2020-03-30T12:28:42.975233Z",
     "start_time": "2020-03-30T12:27:45.910468Z"
    },
    "scrolled": true
   },
   "outputs": [],
   "source": [
    "fig1 = plt.figure(figsize=(15,len(day_activities)))\n",
    "ax1 = fig1.add_subplot(111, aspect='equal')\n",
    "h = 3000\n",
    "prev_acts = ['sleep']\n",
    "prev_act = get_main_activity(prev_acts)\n",
    "prev_cat = get_category(prev_act)\n",
    "origin = (0, -h)\n",
    "day_colors = []\n",
    "for day in day_activities:\n",
    "    origin = (0, origin[1] + h) # move up for new day\n",
    "    midnight = dt2ts(day + '0000')\n",
    "    prev_start = midnight\n",
    "    day_color = 'r'\n",
    "    for acts in day_activities[day]:\n",
    "        if 'hygiene' in acts[1]:\n",
    "            day_color = 'b'\n",
    "        main_act = get_main_activity(acts[1]) # get next act\n",
    "        delta = acts[0] - prev_start # compute time delta\n",
    "        cat = get_category(main_act) # get next cat\n",
    "        color = get_category_color(prev_cat) # color of prev cat\n",
    "        ax1.add_patch(patches.Rectangle(origin, delta, h, color=color))\n",
    "        # update\n",
    "        prev_start = acts[0]\n",
    "        prev_act = main_act\n",
    "        prev_cat = cat\n",
    "        origin = (origin[0] + delta, origin[1])\n",
    "    # add last activity of the day\n",
    "    delta = midnight + 60*60*24 - acts[0]\n",
    "    # draw delta using prev_act\n",
    "    color = get_category_color(cat)\n",
    "    ax1.add_patch(patches.Rectangle(origin, delta, h, color=color))\n",
    "    day_colors.append(day_color)\n",
    "x_d = 1000\n",
    "plt.text(x_d, -h, '0', fontsize=16)\n",
    "for i in range(1,24):\n",
    "    plt.axvline(3600*i, color='white')\n",
    "    plt.text(3600*i + x_d, -h, str(i), fontsize=16)\n",
    "\n",
    "y_d = 1000\n",
    "dt = list(day_activities.keys())[0]\n",
    "s = dt[:4] + '-' + dt[4:6] + '-' + dt[6:8]\n",
    "plt.text(-10000, y_d, s, fontsize=16, color=day_colors[0])\n",
    "for i in range(1,len(day_activities)):\n",
    "    dt = list(day_activities.keys())[i]\n",
    "    s = dt[:4] + '-' + dt[4:6] + '-' + dt[6:8]\n",
    "    plt.text(-10000, h*i + y_d, s, fontsize=16, color=day_colors[i])\n",
    "    plt.axhline(h*i, color='white')\n",
    "    if datetime.datetime.fromtimestamp((date2ts(dt))).weekday() > 4:\n",
    "        plt.axhline(h*i + h/2, color='black')\n",
    "\n",
    "plt.ylim((0, origin[1] + h))\n",
    "plt.xlim((0, 60*60*24))\n",
    "plt.axis('off')\n",
    "plt.savefig('../images/table.pdf', bbox_inches='tight')\n",
    "plt.savefig('../images/table.png', bbox_inches='tight')\n",
    "plt.show()\n",
    "\n",
    "x_cat = 100\n",
    "y_cat = 50\n",
    "y_space = 20\n",
    "fig1 = plt.figure()\n",
    "ax1 = fig1.add_subplot(111, aspect='equal')\n",
    "origin = (0, 0)\n",
    "for cat in category_color:\n",
    "    plt.text(origin[0] + x_cat + x_cat/3, origin[1], cat.upper(), fontsize=16)\n",
    "    ax1.add_patch(patches.Rectangle(origin, x_cat, y_cat, color=get_category_color(cat)))\n",
    "    # move origin above\n",
    "    origin = (0, origin[1] + y_cat + y_space)\n",
    "\n",
    "\n",
    "plt.ylim((0, origin[1]))\n",
    "plt.xlim((0, x_cat))\n",
    "plt.axis('off')\n",
    "plt.savefig('../images/legend.pdf', bbox_inches='tight')\n",
    "plt.savefig('../images/legend.png', bbox_inches='tight')\n",
    "plt.show()\n"
   ]
  },
  {
   "cell_type": "code",
   "execution_count": null,
   "metadata": {
    "ExecuteTime": {
     "end_time": "2020-03-29T15:53:02.225365Z",
     "start_time": "2020-03-29T15:53:02.223528Z"
    }
   },
   "outputs": [],
   "source": [
    "# for el in day_activities['20190816']:\n",
    "#     print(ts2date(el[0]), el[1])"
   ]
  },
  {
   "cell_type": "code",
   "execution_count": null,
   "metadata": {
    "ExecuteTime": {
     "end_time": "2020-03-29T16:12:55.400122Z",
     "start_time": "2020-03-29T16:12:48.368093Z"
    }
   },
   "outputs": [],
   "source": [
    "plt.figure(figsize=(int(len(day_activities)/4),8))\n",
    "x = [i for i in range(len(day_activities))]\n",
    "# for cat in ['work']:\n",
    "for cat in ['sleep', 'work', 'food', 'hobbies']:\n",
    "    vs = get_day_category_time(day_activities, cat)\n",
    "    y = [v/3600 for v in vs.values()]\n",
    "    for i in range(len(day_activities)-len(y)):\n",
    "        y.append(0)\n",
    "    plt.plot(x, y, '-o', label=cat, linewidth='3')\n",
    "plt.xticks(x, [d[:4] + '-' + d[4:6] + '-' + d[6:] for d in day_activities.keys()], rotation=90)\n",
    "plt.legend()\n",
    "plt.grid()\n",
    "plt.ylabel('Hours')\n",
    "plt.savefig('../images/time_series_main_categories.pdf', bbox_inches='tight')\n",
    "plt.show()\n"
   ]
  },
  {
   "cell_type": "code",
   "execution_count": null,
   "metadata": {
    "ExecuteTime": {
     "end_time": "2020-03-29T16:21:33.571132Z",
     "start_time": "2020-03-29T16:21:33.565670Z"
    },
    "scrolled": true
   },
   "outputs": [],
   "source": [
    "tot_act_time = 0\n",
    "for v in get_day_activity_time(day_activities, 'side_project').values():\n",
    "    tot_act_time += v"
   ]
  },
  {
   "cell_type": "code",
   "execution_count": null,
   "metadata": {
    "ExecuteTime": {
     "end_time": "2020-03-29T16:21:34.899264Z",
     "start_time": "2020-03-29T16:21:34.895008Z"
    }
   },
   "outputs": [],
   "source": [
    "tot_act_time/60 # minutes"
   ]
  },
  {
   "cell_type": "code",
   "execution_count": null,
   "metadata": {
    "ExecuteTime": {
     "end_time": "2020-03-29T16:31:00.008320Z",
     "start_time": "2020-03-29T16:30:59.998167Z"
    }
   },
   "outputs": [],
   "source": [
    "tot_act_time/3600 # hours"
   ]
  },
  {
   "cell_type": "code",
   "execution_count": null,
   "metadata": {
    "ExecuteTime": {
     "end_time": "2019-07-02T14:21:17.686509Z",
     "start_time": "2019-07-02T14:21:17.682516Z"
    },
    "scrolled": true
   },
   "outputs": [],
   "source": [
    "# binwidth = 5\n",
    "# bins = range(int(min(values)), int(max(values)) + binwidth, binwidth)\n",
    "# plt.figure(figsize=(9,4))\n",
    "# for i in range(len(values)):\n",
    "# #     plt.hist(values, facecolor='g')\n",
    "#     plt.hist(values[:i], bins, align='left', facecolor='g')\n",
    "#     plt.pause(0.05)\n",
    "#     plt.show()\n"
   ]
  },
  {
   "cell_type": "code",
   "execution_count": null,
   "metadata": {
    "ExecuteTime": {
     "end_time": "2019-07-02T14:39:58.768428Z",
     "start_time": "2019-07-02T14:39:56.555557Z"
    },
    "scrolled": true
   },
   "outputs": [],
   "source": [
    "split_day_act_hour_dict = dict() # doing activity act after this hour is considered in the next day\n",
    "split_day_act_hour_dict['breakfast'] = 18\n",
    "split_day_act_hour_dict['lunch'] = split_day_act_hour_dict['breakfast'] + 5\n",
    "split_day_act_hour_dict['dinner'] = split_day_act_hour_dict['lunch'] + 8\n",
    "split_day_act_hour_dict['sleep'] = split_day_act_hour_dict['breakfast'] - 8\n",
    "# split_day_act_hour_dict['sleep'] = 14\n",
    "for act in split_day_act_hour_dict:\n",
    "    act_timestamps = []\n",
    "    seconds_to_midnight_list = [] # beginning_current_day_timestamp - act_time\n",
    "    for day in day_activities:\n",
    "        for el in day_activities[day]:\n",
    "            if act in el[1]:\n",
    "                seconds_to_midnight = el[0] - date2ts(day)\n",
    "                if seconds_to_midnight > 60*60*split_day_act_hour_dict[act]:\n",
    "                    seconds_to_midnight = seconds_to_midnight - 60*60*24\n",
    "    #                 print(ts2date(date2ts(day)), ts2date(el[0]), seconds_to_midnight)\n",
    "                seconds_to_midnight_list.append(seconds_to_midnight)\n",
    "    values = [e/3600 for e in seconds_to_midnight_list]\n",
    "    binwidth = 1\n",
    "    bins = range(int(min(values)), int(max(values)) + binwidth, binwidth)\n",
    "    plt.figure(figsize=(9,4))\n",
    "    plt.title(act)\n",
    "    plt.hist(values[:i], bins, align='left', facecolor='g')\n",
    "    plt.show()\n"
   ]
  }
 ],
 "metadata": {
  "kernelspec": {
   "display_name": "Python 3",
   "language": "python",
   "name": "python3"
  },
  "language_info": {
   "codemirror_mode": {
    "name": "ipython",
    "version": 3
   },
   "file_extension": ".py",
   "mimetype": "text/x-python",
   "name": "python",
   "nbconvert_exporter": "python",
   "pygments_lexer": "ipython3",
   "version": "3.6.9"
  }
 },
 "nbformat": 4,
 "nbformat_minor": 2
}
